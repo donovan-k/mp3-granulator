{
 "cells": [
  {
   "metadata": {},
   "cell_type": "markdown",
   "source": "<h2> MP3 Granulator </h2>\n\nThis is a granulator synth that takes in an audio file and randomly chooses grains (short sections of the sample of length grain_size). \n\n<h3> grain_size </h3>\nThis is the size of the choses grain and the size oscilates following a sine wave with a frequency parameter. Shown is a sine wave that has been normalized to a minimum of 20 milliseconds and a maximum of 5000 milliseconds.\n\n<h3> order of choosing grains </h3>\nWhen choosing the sample, the next sample will be randomly choosen from a range 10 * grain_size.  \n\n<h3> what happens next </h3>\nNext we calculate a crossfade that slowely softens the previous grain and the current grain to make the transition between each grain more smooth. Then the grain is connected to the previous grain, overlaying by small percent. This continues until the current position index reaches the outputs size (which equals the input audio file).\n    \n<h3> how to run </h3>\nNeed libraries pydub, numpy, random, and math. And a\nmp3 audio file to granulate. Run the last line to install nonstandard python libraries numpy and pydub"
  },
  {
   "metadata": {
    "trusted": false
   },
   "cell_type": "code",
   "source": "import numpy as np\nfrom pydub import AudioSegment\nimport random\nimport math\n\n# Load audio file\ndef load_audio(file_path):\n    return AudioSegment.from_file(file_path)\n\n# Convert audio to numpy array\ndef audio_to_np(audio_segment):\n    samples = np.array(audio_segment.get_array_of_samples())\n    return samples, audio_segment.frame_rate, audio_segment.channels\n\n# Convert numpy array back to audio segment\ndef np_to_audio(samples, frame_rate, channels):\n    audio_segment = AudioSegment(\n        samples.tobytes(), \n        frame_rate=frame_rate, \n        sample_width=samples.dtype.itemsize, \n        channels=channels\n    )\n    return audio_segment\n\n# Apply crossfade to two overlapping grains of different sizes without trimming the larger one\ndef crossfade_grains(grain1, grain2, crossfade_duration):\n    min_length = min(len(grain1), len(grain2))\n    crossfade_samples = int(min_length * crossfade_duration)\n\n    # Convert grains to float32 for processing\n    grain1 = grain1.astype(np.float32)\n    grain2 = grain2.astype(np.float32)\n\n    # Apply linear crossfade on the overlapping portion\n    fade_out = np.linspace(1, 0, crossfade_samples, dtype=np.float32)\n    fade_in = np.linspace(0, 1, crossfade_samples, dtype=np.float32)\n\n    # Crossfade only the overlapping part\n    grain1[-crossfade_samples:] *= fade_out\n    grain2[:crossfade_samples] *= fade_in\n\n    # Sum the overlapping part\n    crossfaded_part = grain1[:min_length] + grain2[:min_length]\n\n    # Append the remaining part of the larger grain\n    if len(grain1) > len(grain2):\n        crossfaded_grain = np.concatenate((crossfaded_part, grain1[min_length:]))\n    else:\n        crossfaded_grain = np.concatenate((crossfaded_part, grain2[min_length:]))\n\n    # Clip the result to avoid going beyond int16 limits\n    crossfaded_grain = np.clip(crossfaded_grain, -32768, 32767)\n\n    return crossfaded_grain.astype(np.int16)\n\n# Function to calculate a sine-modulated grain size\ndef get_sine_wave_grain_size(min_size, max_size, t, frequency):\n    sine_value = 0.5 * (1 + math.sin(2 * math.pi * frequency * t))\n    return int(min_size + (max_size - min_size) * sine_value)\n\n# Granular synthesis with random grain selection, dynamic grain size, and controlled overlap\ndef granular_synthesis(audio_segment, min_grain_size_ms=10, max_grain_size_ms=100, overlap=0.5, crossfade_duration=0.1, frequency=0.01):\n    samples, frame_rate, channels = audio_to_np(audio_segment)\n\n    min_grain_size = int(frame_rate * (min_grain_size_ms / 1000.0))  # Min grain size in samples\n    max_grain_size = int(frame_rate * (max_grain_size_ms / 1000.0))  # Max grain size in samples\n\n    output = np.zeros(len(samples), dtype=np.float32)  # Output buffer\n    audio_length = len(samples)\n\n    prev_grain = None  # Hold the previous grain for crossfading\n    amplitude_reduction = 0.5  # Reduce amplitude to avoid clipping\n    current_position = 0  # Track position for placing grains\n\n    t = 0  # Time index for sine wave modulation\n\n    while current_position + min_grain_size < audio_length:\n        # Get dynamic grain size based on a sine wave\n        grain_size = get_sine_wave_grain_size(min_grain_size, max_grain_size, t, frequency)\n\n        # Calculate step size to ensure overlap\n        step_size = int(grain_size * (1 - overlap))\n\n        # Randomly select a start point within a sliding window to prevent silence\n        window_size = grain_size * 10  # Restrict random grain selection within this range\n        start = random.randint(max(0, current_position - window_size), min(audio_length - grain_size, current_position + window_size))\n        grain = samples[start:start+grain_size].astype(np.float32)\n\n        # Reverse grain for random pitch shifting (optional)\n        if random.random() > 0.5:\n            grain = grain[::-1]\n\n        # Apply crossfade between the current and previous grain\n        if prev_grain is not None:\n            crossfaded_grain = crossfade_grains(prev_grain, grain, crossfade_duration)\n\n            available_space = len(output) - current_position  # Remaining space in the output buffer\n            if len(crossfaded_grain) > available_space:\n                crossfaded_grain = crossfaded_grain[:available_space]\n\n            output[current_position:current_position+len(crossfaded_grain)] += crossfaded_grain * amplitude_reduction\n        else:\n            available_space = len(output) - current_position\n            if grain_size > available_space:\n                grain = grain[:available_space]\n\n            output[current_position:current_position+len(grain)] += grain * amplitude_reduction\n\n        # Update position: ensure grains overlap with the previous one\n        current_position += step_size\n\n        prev_grain = grain\n        t += 1  # Increment time step for sine modulation\n\n    # Normalize output to avoid clipping\n    output = np.clip(output, -32768, 32767)\n    output = output.astype(np.int16)\n\n    return np_to_audio(output, frame_rate, channels)\n\n# Chunked processing for large files\ndef granular_synthesis_in_chunks(file_path, chunk_duration_ms=10000, *args, **kwargs):\n    audio_segment = load_audio(file_path)\n    total_duration_ms = len(audio_segment)\n    output_audio = AudioSegment.silent(duration=total_duration_ms)  # Prepare an empty output buffer\n\n    for chunk_start in range(0, total_duration_ms, chunk_duration_ms):\n        chunk_end = min(chunk_start + chunk_duration_ms, total_duration_ms)\n        chunk = audio_segment[chunk_start:chunk_end]\n\n        granular_chunk = granular_synthesis(chunk, *args, **kwargs)\n        output_audio = output_audio.overlay(granular_chunk, position=chunk_start)\n\n    return output_audio\n\n# Save output to file\ndef save_audio(audio_segment, file_path):\n    audio_segment.export(file_path, format=\"mp3\")\n\n# Example usage\ninput_file = \"ambientjazz.mp3\"  # Your input MP3 file\noutput_file = \"ambientjazzgran.mp3\"  # Your output MP3 file\n\ngranular_audio = granular_synthesis_in_chunks(input_file, chunk_duration_ms=10000, min_grain_size_ms=20, max_grain_size_ms=5000, overlap=0.5, crossfade_duration=0.1, frequency=0.05)\nsave_audio(granular_audio, output_file)\n",
   "execution_count": null,
   "outputs": []
  },
  {
   "metadata": {
    "trusted": true
   },
   "cell_type": "code",
   "source": "%pip install numpy\n%pip install pydub",
   "execution_count": 1,
   "outputs": [
    {
     "output_type": "stream",
     "text": "Note: you may need to restart the kernel to use updated packages.\nNote: you may need to restart the kernel to use updated packages.\n",
     "name": "stdout"
    },
    {
     "output_type": "stream",
     "text": " System commands are not supported in Juno (yet)\n System commands are not supported in Juno (yet)\n",
     "name": "stderr"
    }
   ]
  }
 ],
 "metadata": {
  "kernelspec": {
   "name": "python3",
   "display_name": "Python 3",
   "language": "python"
  },
  "language_info": {
   "name": "python",
   "version": "3.10.4",
   "mimetype": "text/x-python",
   "codemirror_mode": {
    "name": "ipython",
    "version": 3
   },
   "pygments_lexer": "ipython3",
   "nbconvert_exporter": "python",
   "file_extension": ".py"
  }
 },
 "nbformat": 4,
 "nbformat_minor": 2
}